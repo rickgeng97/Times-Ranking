{
  "cells": [
    {
      "metadata": {
        "_uuid": "8f2839f25d086af736a60e9eeb907d3b93b6e0e5",
        "_cell_guid": "b1076dfc-b9ad-4769-8c92-a6c4dae69d19",
        "trusted": true
      },
      "cell_type": "code",
      "source": "#Wranlging\nimport pandas as pd\nimport numpy as np\n\n#Visualization\nimport matplotlib.pyplot as plt\nimport seaborn as sns\n\n#Classification\nfrom sklearn import preprocessing\nfrom sklearn.model_selection import train_test_split\nfrom sklearn.tree import DecisionTreeClassifier\nfrom sklearn.ensemble import RandomForestClassifier\nfrom sklearn.ensemble import AdaBoostRegressor\nfrom sklearn.neighbors import KNeighborsClassifier\nfrom sklearn.linear_model import LogisticRegression\nfrom sklearn.naive_bayes import GaussianNB\nfrom sklearn.metrics import accuracy_score",
      "execution_count": null,
      "outputs": []
    },
    {
      "metadata": {
        "_uuid": "1b1f42b561f12d71bf371c41d8f3c4d838de99fc"
      },
      "cell_type": "markdown",
      "source": "# List of Questions we would like to answer\nQuestion 1: Identify Universities whose rank has been non-decreasing. <br>\nQuestion 2: Which factors are more determining at rankings <br>\nQuestion 3: Predict University Rankings based on different factors <br>"
    },
    {
      "metadata": {
        "_uuid": "63bbc43787917f070a693858986637e8ef8b4826"
      },
      "cell_type": "markdown",
      "source": "### But first, let's see some basic stats. "
    },
    {
      "metadata": {
        "_cell_guid": "79c7e3d0-c299-4dcb-8224-4455121ee9b0",
        "_uuid": "d629ff2d2480ee46fbb7e2d37f6b5fab8052498a",
        "trusted": true
      },
      "cell_type": "code",
      "source": "rank = pd.read_csv('../input/timesData.csv')",
      "execution_count": null,
      "outputs": []
    },
    {
      "metadata": {
        "trusted": true,
        "_uuid": "7ae74889b5fd0e21a47335da2c35198dcd534eb9",
        "scrolled": false
      },
      "cell_type": "code",
      "source": "rank.info()",
      "execution_count": null,
      "outputs": []
    },
    {
      "metadata": {
        "trusted": true,
        "scrolled": true,
        "_uuid": "263e36fba26f189af69d0a48efc510e5392ee8b2"
      },
      "cell_type": "code",
      "source": "rank.describe()",
      "execution_count": null,
      "outputs": []
    },
    {
      "metadata": {
        "trusted": true,
        "_uuid": "26524ae77eb9bddb1d6a54b3bfc3a772076f841d",
        "scrolled": true
      },
      "cell_type": "code",
      "source": "list(rank.columns.values)",
      "execution_count": null,
      "outputs": []
    },
    {
      "metadata": {
        "trusted": true,
        "_uuid": "658980e7b024a1be777e1a6a9651f21e42c6af2c"
      },
      "cell_type": "code",
      "source": "#Distinct Years\nrank.year.unique()",
      "execution_count": null,
      "outputs": []
    },
    {
      "metadata": {
        "trusted": true,
        "scrolled": false,
        "_uuid": "2a1c096d76b6ff76d653127e253463578f56bef3"
      },
      "cell_type": "code",
      "source": "#Count of Institution by country in 2016\nins_count = rank[rank['year'] == 2016].groupby('country').size().sort_values(ascending = False)\nplt.figure(figsize = (15,15))\nax = sns.barplot(x = ins_count.values, y = ins_count.index)\nax.set(xlabel = 'Country', ylabel = 'Number of Institution')\nfor i in ax.patches:\n    ax.text(i.get_width()+1.0, i.get_y()+0.7,i.get_width().astype(int))\nplt.show()",
      "execution_count": null,
      "outputs": []
    },
    {
      "metadata": {
        "trusted": true,
        "_uuid": "75c7ae971c1ada6e0ac29c741e6c75dd24574e32"
      },
      "cell_type": "code",
      "source": "#Number of top 100 institution by country in 2016\ntop_count = rank[rank['year'] == 2016].head(100).groupby('country').size().sort_values(ascending = False)\nplt.figure(figsize = (15,10))\nax = sns.barplot(x = top_count.values, y = top_count.index)\nax.set(xlabel = 'Country', ylabel = 'Number of top 100 Institution')\nfor i in ax.patches:\n    ax.text(i.get_width()+0.2, i.get_y()+0.6,i.get_width().astype(int))\nplt.show()",
      "execution_count": null,
      "outputs": []
    },
    {
      "metadata": {
        "trusted": true,
        "_uuid": "eeee0a5c6e5dc448fd74c26acc2522f9a181acd6"
      },
      "cell_type": "code",
      "source": "#Percentage of top 100 institution by country in 2016\nper_count = top_count/ins_count\nper_count.dropna(inplace = True)\nper_count.sort_values(ascending = False, inplace = True)\nplt.figure(figsize = (15,10))\nax = sns.barplot(x = per_count.values, y = per_count.index)\nax.set(xlabel = 'Country', ylabel = 'Percentage of top 100 Institution')\nfor i in ax.patches:\n    ax.text(i.get_width(), i.get_y()+0.5,str(round(i.get_width()*100,1))+'%')\nplt.show()",
      "execution_count": null,
      "outputs": []
    },
    {
      "metadata": {
        "_uuid": "5ab14f692b94cb007f05bc2f2c5dcb66fbeb7622"
      },
      "cell_type": "markdown",
      "source": "## Question 1: Identify Universities whose rank has been non-decreasing."
    },
    {
      "metadata": {
        "trusted": true,
        "scrolled": true,
        "_uuid": "0336fb6c6d6a7a4dbbec532acaa1c0365d829440"
      },
      "cell_type": "code",
      "source": "#Define a new dataframe\nuniversity_name = list(rank.university_name.unique())\nnon_decreasing = pd.DataFrame(data=university_name,columns=['university_name'])\nnon_decreasing.head()",
      "execution_count": null,
      "outputs": []
    },
    {
      "metadata": {
        "trusted": true,
        "scrolled": true,
        "_uuid": "7bd5450b773d497caae659440247648b357bcddf"
      },
      "cell_type": "code",
      "source": "#filtering \ndef non_decreasing_rank(university_name):\n    world_rank = list(rank[rank.university_name == university_name]['world_rank'])\n    count = rank.groupby('university_name').size()[university_name]\n    for i in range(1,count): #1,2,3\n        if world_rank[i-1] < world_rank[i]:\n            return False\n    return True\n\n#Moment of truth\nnon_decreasing[non_decreasing['university_name'].apply(non_decreasing_rank) == True]",
      "execution_count": null,
      "outputs": []
    },
    {
      "metadata": {
        "_uuid": "ca19d025b80827fc365d4d40f0eddc571ea1e221"
      },
      "cell_type": "markdown",
      "source": "## Question 2 : Which factors are more determining at rankings"
    },
    {
      "metadata": {
        "trusted": true,
        "_uuid": "6108afe40e2338ed1bca3cb69b566ed7d1dcb43c",
        "scrolled": true
      },
      "cell_type": "code",
      "source": "#We are using 2015 figures\nrank2015_raw = rank[rank.year == 2015]\nrank2015_raw.drop(['country','year'],axis = 1, inplace = True)\nrank2015_raw.head()",
      "execution_count": null,
      "outputs": []
    },
    {
      "metadata": {
        "_uuid": "dbf67d6c1de97d751d910b7b451221d50086e902"
      },
      "cell_type": "markdown",
      "source": "#### Firstly, we need to clean the data."
    },
    {
      "metadata": {
        "trusted": true,
        "_uuid": "d534bb8b5757a549224e41f4f2278349a32a9640"
      },
      "cell_type": "code",
      "source": "rank2015_raw.isnull().sum()",
      "execution_count": null,
      "outputs": []
    },
    {
      "metadata": {
        "trusted": true,
        "_uuid": "e578bdb152c227f7b36da9beaa2aa5c375f55f3e"
      },
      "cell_type": "code",
      "source": "#I'm using forward fill because data is in order. I would assume university close to others in rank have similar values.\nrank2015_raw.fillna(method='ffill',inplace = True)",
      "execution_count": null,
      "outputs": []
    },
    {
      "metadata": {
        "trusted": true,
        "_uuid": "b35e0977b2257b6bd3e2f245c379bfd65dabf840"
      },
      "cell_type": "code",
      "source": "rank2015_raw.isnull().sum()",
      "execution_count": null,
      "outputs": []
    },
    {
      "metadata": {
        "trusted": true,
        "_uuid": "30c895eead6dfca4c37a6b6a26f339525c3ef4f1"
      },
      "cell_type": "code",
      "source": "rank2015_raw.isin(['-']).sum()",
      "execution_count": null,
      "outputs": []
    },
    {
      "metadata": {
        "trusted": true,
        "scrolled": false,
        "_uuid": "4d6be07366f1605917e3f9857234c4e61a3a6c7a"
      },
      "cell_type": "code",
      "source": "#Dropping rows with '-'\nrank2015_raw = rank2015_raw[(~rank2015_raw['total_score'].isin(['-']))&(~rank2015_raw['income'].isin(['-']))]\nrank2015_raw.isin(['-']).sum()",
      "execution_count": null,
      "outputs": []
    },
    {
      "metadata": {
        "trusted": true,
        "_uuid": "ba1cf2b481dbecb8dc2aa75b0594c96bcb404e2e"
      },
      "cell_type": "code",
      "source": "#Need to convert string to numeric\ncol = list(rank2015_raw.columns.values)\n\nfor i in range(2,8):\n    rank2015_raw[col[i]] = pd.to_numeric(rank2015_raw[col[i]])",
      "execution_count": null,
      "outputs": []
    },
    {
      "metadata": {
        "_uuid": "41523aa8e047309afd4a06c04fb1cc329ef00baf"
      },
      "cell_type": "markdown",
      "source": "We can start analysing."
    },
    {
      "metadata": {
        "trusted": true,
        "_uuid": "bbcf95889c687976b564c097337e8d3da07cb176"
      },
      "cell_type": "code",
      "source": "rank2015_raw.shape",
      "execution_count": null,
      "outputs": []
    },
    {
      "metadata": {
        "trusted": true,
        "scrolled": false,
        "_uuid": "f1e13c014727bd2a538b02812ec8e54c86be3a31"
      },
      "cell_type": "code",
      "source": "factor = col[2:7]\nfor i in range(len(factor)):\n    z = rank2015_raw[factor[i]]\n    plt.figure(i)\n    sns.regplot(x=z, y='total_score', data = rank2015_raw)",
      "execution_count": null,
      "outputs": []
    },
    {
      "metadata": {
        "trusted": true,
        "_uuid": "3c2cde187a28bd78ccc3602de8de733fa96a4e16"
      },
      "cell_type": "code",
      "source": "cor = pd.DataFrame()\nfor i in range(len(factor)):\n    cor[factor[i]] = rank2015_raw[factor[i]]\ncor['total_score'] = rank2015_raw.total_score\ncor.corr() ",
      "execution_count": null,
      "outputs": []
    },
    {
      "metadata": {
        "_uuid": "4098ee7cd5c7d5091643cee94c63ec9b5e3ec846"
      },
      "cell_type": "markdown",
      "source": "## Question 3: Predict University Rankings based on different factors"
    },
    {
      "metadata": {
        "trusted": true,
        "scrolled": true,
        "_uuid": "c44cd92d4f6d64c3c81b726cd16cb7dcfdd398fa"
      },
      "cell_type": "code",
      "source": "score = rank2015_raw.total_score\ntrain = rank2015_raw[factor] \nlab_enc = preprocessing.LabelEncoder()\nscore_encoded = lab_enc.fit_transform(score)",
      "execution_count": null,
      "outputs": []
    },
    {
      "metadata": {
        "trusted": true,
        "_uuid": "d910c4a35e5f0a7b87aaac897d81f9ff71b8f764"
      },
      "cell_type": "code",
      "source": "x_train, y_train, x_test, y_test = train_test_split(train,score_encoded,train_size = 0.9, random_state = 0)",
      "execution_count": null,
      "outputs": []
    },
    {
      "metadata": {
        "trusted": true,
        "_uuid": "c66db858c0256c327c7a4a924b819af931257d1c"
      },
      "cell_type": "code",
      "source": "#Decision Tree\ntree = DecisionTreeClassifier()\ntree.fit(x_train,x_test)\ny_pred = tree.predict(y_train)\ny1 = lab_enc.inverse_transform(y_test)\ny2 = lab_enc.inverse_transform(y_pred)",
      "execution_count": null,
      "outputs": []
    },
    {
      "metadata": {
        "trusted": true,
        "_uuid": "b12d43a8b02b8d2a0a5d7828f6c6b6c2ce0277f7",
        "scrolled": true
      },
      "cell_type": "code",
      "source": "print(np.corrcoef(y1,y2))\nsns.regplot(y1,y2)",
      "execution_count": null,
      "outputs": []
    }
  ],
  "metadata": {
    "kernelspec": {
      "display_name": "Python 3",
      "language": "python",
      "name": "python3"
    },
    "language_info": {
      "name": "python",
      "version": "3.6.6",
      "mimetype": "text/x-python",
      "codemirror_mode": {
        "name": "ipython",
        "version": 3
      },
      "pygments_lexer": "ipython3",
      "nbconvert_exporter": "python",
      "file_extension": ".py"
    }
  },
  "nbformat": 4,
  "nbformat_minor": 1
}
